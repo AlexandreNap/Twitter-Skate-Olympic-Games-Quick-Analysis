{
 "cells": [
  {
   "cell_type": "code",
   "execution_count": 2,
   "id": "a95f7439",
   "metadata": {},
   "outputs": [],
   "source": [
    "import pandas as pd\n",
    "import numpy as np\n",
    "import matplotlib.pyplot as plt"
   ]
  },
  {
   "cell_type": "code",
   "execution_count": 3,
   "id": "c61cc1a2",
   "metadata": {},
   "outputs": [
    {
     "name": "stdout",
     "output_type": "stream",
     "text": [
      "Files in 'D:\\\\Users\\\\alexa\\\\Desktop\\\\projperso\\\\twitter_skate': ['.ipynb_checkpoints', 'df.csv', 'ntbk.ipynb', 'tweets_scraping.py', 'twit_auth.py', '__pycache__']\n"
     ]
    }
   ],
   "source": [
    "import os\n",
    "\n",
    "cwd = os.getcwd()  # Get the current working directory (cwd)\n",
    "files = os.listdir(cwd)  # Get all the files in that directory\n",
    "print(\"Files in %r: %s\" % (cwd, files))"
   ]
  },
  {
   "cell_type": "code",
   "execution_count": 4,
   "id": "505f53aa",
   "metadata": {},
   "outputs": [
    {
     "data": {
      "text/plain": [
       "'D:\\\\Users\\\\alexa\\\\Desktop\\\\projperso\\\\twitter_skate'"
      ]
     },
     "execution_count": 4,
     "metadata": {},
     "output_type": "execute_result"
    }
   ],
   "source": [
    "pwd"
   ]
  },
  {
   "cell_type": "code",
   "execution_count": 5,
   "id": "506d5ba3",
   "metadata": {},
   "outputs": [
    {
     "name": "stdout",
     "output_type": "stream",
     "text": [
      "(695542, 8)\n"
     ]
    },
    {
     "data": {
      "text/html": [
       "<div>\n",
       "<style scoped>\n",
       "    .dataframe tbody tr th:only-of-type {\n",
       "        vertical-align: middle;\n",
       "    }\n",
       "\n",
       "    .dataframe tbody tr th {\n",
       "        vertical-align: top;\n",
       "    }\n",
       "\n",
       "    .dataframe thead th {\n",
       "        text-align: right;\n",
       "    }\n",
       "</style>\n",
       "<table border=\"1\" class=\"dataframe\">\n",
       "  <thead>\n",
       "    <tr style=\"text-align: right;\">\n",
       "      <th></th>\n",
       "      <th>twt_id</th>\n",
       "      <th>date</th>\n",
       "      <th>full_text</th>\n",
       "      <th>usr_name</th>\n",
       "      <th>usr_id</th>\n",
       "      <th>lang</th>\n",
       "      <th>location</th>\n",
       "      <th>description</th>\n",
       "    </tr>\n",
       "  </thead>\n",
       "  <tbody>\n",
       "    <tr>\n",
       "      <th>0</th>\n",
       "      <td>1423428941839314949</td>\n",
       "      <td>2021-08-05 23:41:20</td>\n",
       "      <td>RT @cruzsevandro: o skate é a o esporte com pe...</td>\n",
       "      <td>yaslovisk</td>\n",
       "      <td>930604163091886080</td>\n",
       "      <td>pt</td>\n",
       "      <td>No seu coração bebê</td>\n",
       "      <td>𝗢𝗿𝗮, 𝗾𝘂𝗲𝗿𝗶𝗱𝗼. 𝗦𝗲 𝗻ã𝗼 𝗮𝗴𝘂𝗲𝗻𝘁𝗮 𝗼 𝗰𝗮𝗹𝗼𝗿, 𝘀𝗮𝗶𝗮 𝗱𝗼 ...</td>\n",
       "    </tr>\n",
       "    <tr>\n",
       "      <th>1</th>\n",
       "      <td>1423428934117601283</td>\n",
       "      <td>2021-08-05 23:41:18</td>\n",
       "      <td>RT @cruzsevandro: o skate é a o esporte com pe...</td>\n",
       "      <td>QuartzFumes</td>\n",
       "      <td>1168478932213096449</td>\n",
       "      <td>pt</td>\n",
       "      <td>ela/dela</td>\n",
       "      <td>cαdєlínhα dσ  mαmαmσσ /\\n мiуαиє /\\n/вуυℓ υттє...</td>\n",
       "    </tr>\n",
       "    <tr>\n",
       "      <th>2</th>\n",
       "      <td>1423428931068305408</td>\n",
       "      <td>2021-08-05 23:41:17</td>\n",
       "      <td>RT @GQBrasil: . @LeticiaBufoni queremos ver o ...</td>\n",
       "      <td>gavassiBH</td>\n",
       "      <td>1263976762146459649</td>\n",
       "      <td>pt</td>\n",
       "      <td>Brazil</td>\n",
       "      <td>↠ 𝘔𝘰𝘢𝘳𝘮𝘺, 𝘎𝘢𝘷𝘢𝘴𝘴𝘪𝘦𝘳 𝘦 𝘋𝘰𝘳𝘢𝘮𝘦𝘪𝘳𝘢  💜\\nFan account ❀</td>\n",
       "    </tr>\n",
       "    <tr>\n",
       "      <th>3</th>\n",
       "      <td>1423428930602733572</td>\n",
       "      <td>2021-08-05 23:41:17</td>\n",
       "      <td>RT @cruzsevandro: o skate é a o esporte com pe...</td>\n",
       "      <td>princpark</td>\n",
       "      <td>601475583</td>\n",
       "      <td>pt</td>\n",
       "      <td>Brasil</td>\n",
       "      <td>a full flower moment 🌼</td>\n",
       "    </tr>\n",
       "    <tr>\n",
       "      <th>4</th>\n",
       "      <td>1423428925582102529</td>\n",
       "      <td>2021-08-05 23:41:16</td>\n",
       "      <td>RT @SOLELINKS: Ad: RESTOCK👌\\nNike SB Zoom Blaz...</td>\n",
       "      <td>Vo_Vision</td>\n",
       "      <td>109582509</td>\n",
       "      <td>en</td>\n",
       "      <td>Chicago Over Everything</td>\n",
       "      <td>@musicbreakr\\nMusicbreakr is n a16z/TxO backed...</td>\n",
       "    </tr>\n",
       "  </tbody>\n",
       "</table>\n",
       "</div>"
      ],
      "text/plain": [
       "                twt_id                 date  \\\n",
       "0  1423428941839314949  2021-08-05 23:41:20   \n",
       "1  1423428934117601283  2021-08-05 23:41:18   \n",
       "2  1423428931068305408  2021-08-05 23:41:17   \n",
       "3  1423428930602733572  2021-08-05 23:41:17   \n",
       "4  1423428925582102529  2021-08-05 23:41:16   \n",
       "\n",
       "                                           full_text     usr_name  \\\n",
       "0  RT @cruzsevandro: o skate é a o esporte com pe...    yaslovisk   \n",
       "1  RT @cruzsevandro: o skate é a o esporte com pe...  QuartzFumes   \n",
       "2  RT @GQBrasil: . @LeticiaBufoni queremos ver o ...    gavassiBH   \n",
       "3  RT @cruzsevandro: o skate é a o esporte com pe...    princpark   \n",
       "4  RT @SOLELINKS: Ad: RESTOCK👌\\nNike SB Zoom Blaz...    Vo_Vision   \n",
       "\n",
       "                usr_id lang                 location  \\\n",
       "0   930604163091886080   pt      No seu coração bebê   \n",
       "1  1168478932213096449   pt                ela/dela    \n",
       "2  1263976762146459649   pt                  Brazil    \n",
       "3            601475583   pt                   Brasil   \n",
       "4            109582509   en  Chicago Over Everything   \n",
       "\n",
       "                                         description  \n",
       "0  𝗢𝗿𝗮, 𝗾𝘂𝗲𝗿𝗶𝗱𝗼. 𝗦𝗲 𝗻ã𝗼 𝗮𝗴𝘂𝗲𝗻𝘁𝗮 𝗼 𝗰𝗮𝗹𝗼𝗿, 𝘀𝗮𝗶𝗮 𝗱𝗼 ...  \n",
       "1  cαdєlínhα dσ  mαmαmσσ /\\n мiуαиє /\\n/вуυℓ υттє...  \n",
       "2  ↠ 𝘔𝘰𝘢𝘳𝘮𝘺, 𝘎𝘢𝘷𝘢𝘴𝘴𝘪𝘦𝘳 𝘦 𝘋𝘰𝘳𝘢𝘮𝘦𝘪𝘳𝘢  💜\\nFan account ❀  \n",
       "3                             a full flower moment 🌼  \n",
       "4  @musicbreakr\\nMusicbreakr is n a16z/TxO backed...  "
      ]
     },
     "execution_count": 5,
     "metadata": {},
     "output_type": "execute_result"
    }
   ],
   "source": [
    "df = pd.read_csv('df.csv')\n",
    "print(df.shape)\n",
    "df.head()"
   ]
  },
  {
   "cell_type": "code",
   "execution_count": 6,
   "id": "aa43843a",
   "metadata": {},
   "outputs": [],
   "source": [
    "#df['date_only'] = df['date'].dt.date\n",
    "#df.groupby('date_only').count()"
   ]
  },
  {
   "cell_type": "code",
   "execution_count": 7,
   "id": "a5fc0a4a",
   "metadata": {},
   "outputs": [
    {
     "data": {
      "text/plain": [
       "0         2021-08-05 23:41:20\n",
       "1         2021-08-05 23:41:18\n",
       "2         2021-08-05 23:41:17\n",
       "3         2021-08-05 23:41:17\n",
       "4         2021-08-05 23:41:16\n",
       "                 ...         \n",
       "695537    2021-07-29 21:49:25\n",
       "695538    2021-07-29 21:49:18\n",
       "695539    2021-07-29 21:49:17\n",
       "695540    2021-07-29 21:49:16\n",
       "695541    2021-07-29 21:49:07\n",
       "Name: date, Length: 695542, dtype: object"
      ]
     },
     "execution_count": 7,
     "metadata": {},
     "output_type": "execute_result"
    }
   ],
   "source": [
    "df.date"
   ]
  },
  {
   "cell_type": "code",
   "execution_count": 8,
   "id": "2b61a946",
   "metadata": {},
   "outputs": [
    {
     "name": "stdout",
     "output_type": "stream",
     "text": [
      "(320506, 8)\n"
     ]
    }
   ],
   "source": [
    "df_no_rt = df.loc[~df['full_text'].str.contains(\"RT @\")]\n",
    "print(df_no_rt.shape)"
   ]
  },
  {
   "cell_type": "code",
   "execution_count": 9,
   "id": "6cc524f6",
   "metadata": {},
   "outputs": [
    {
     "data": {
      "text/html": [
       "<div>\n",
       "<style scoped>\n",
       "    .dataframe tbody tr th:only-of-type {\n",
       "        vertical-align: middle;\n",
       "    }\n",
       "\n",
       "    .dataframe tbody tr th {\n",
       "        vertical-align: top;\n",
       "    }\n",
       "\n",
       "    .dataframe thead th {\n",
       "        text-align: right;\n",
       "    }\n",
       "</style>\n",
       "<table border=\"1\" class=\"dataframe\">\n",
       "  <thead>\n",
       "    <tr style=\"text-align: right;\">\n",
       "      <th></th>\n",
       "      <th>lang</th>\n",
       "      <th>count</th>\n",
       "    </tr>\n",
       "  </thead>\n",
       "  <tbody>\n",
       "    <tr>\n",
       "      <th>28</th>\n",
       "      <td>pt</td>\n",
       "      <td>255297</td>\n",
       "    </tr>\n",
       "    <tr>\n",
       "      <th>8</th>\n",
       "      <td>en</td>\n",
       "      <td>36784</td>\n",
       "    </tr>\n",
       "    <tr>\n",
       "      <th>9</th>\n",
       "      <td>es</td>\n",
       "      <td>10661</td>\n",
       "    </tr>\n",
       "    <tr>\n",
       "      <th>21</th>\n",
       "      <td>ja</td>\n",
       "      <td>4356</td>\n",
       "    </tr>\n",
       "    <tr>\n",
       "      <th>14</th>\n",
       "      <td>fr</td>\n",
       "      <td>2920</td>\n",
       "    </tr>\n",
       "    <tr>\n",
       "      <th>37</th>\n",
       "      <td>und</td>\n",
       "      <td>2000</td>\n",
       "    </tr>\n",
       "    <tr>\n",
       "      <th>20</th>\n",
       "      <td>it</td>\n",
       "      <td>1474</td>\n",
       "    </tr>\n",
       "    <tr>\n",
       "      <th>18</th>\n",
       "      <td>in</td>\n",
       "      <td>1178</td>\n",
       "    </tr>\n",
       "    <tr>\n",
       "      <th>5</th>\n",
       "      <td>da</td>\n",
       "      <td>938</td>\n",
       "    </tr>\n",
       "    <tr>\n",
       "      <th>23</th>\n",
       "      <td>lt</td>\n",
       "      <td>735</td>\n",
       "    </tr>\n",
       "    <tr>\n",
       "      <th>35</th>\n",
       "      <td>tl</td>\n",
       "      <td>701</td>\n",
       "    </tr>\n",
       "    <tr>\n",
       "      <th>26</th>\n",
       "      <td>no</td>\n",
       "      <td>343</td>\n",
       "    </tr>\n",
       "    <tr>\n",
       "      <th>24</th>\n",
       "      <td>lv</td>\n",
       "      <td>305</td>\n",
       "    </tr>\n",
       "    <tr>\n",
       "      <th>32</th>\n",
       "      <td>sv</td>\n",
       "      <td>305</td>\n",
       "    </tr>\n",
       "    <tr>\n",
       "      <th>6</th>\n",
       "      <td>de</td>\n",
       "      <td>294</td>\n",
       "    </tr>\n",
       "    <tr>\n",
       "      <th>11</th>\n",
       "      <td>eu</td>\n",
       "      <td>281</td>\n",
       "    </tr>\n",
       "    <tr>\n",
       "      <th>31</th>\n",
       "      <td>sl</td>\n",
       "      <td>207</td>\n",
       "    </tr>\n",
       "    <tr>\n",
       "      <th>10</th>\n",
       "      <td>et</td>\n",
       "      <td>196</td>\n",
       "    </tr>\n",
       "    <tr>\n",
       "      <th>15</th>\n",
       "      <td>hi</td>\n",
       "      <td>167</td>\n",
       "    </tr>\n",
       "    <tr>\n",
       "      <th>22</th>\n",
       "      <td>ko</td>\n",
       "      <td>164</td>\n",
       "    </tr>\n",
       "    <tr>\n",
       "      <th>2</th>\n",
       "      <td>ca</td>\n",
       "      <td>140</td>\n",
       "    </tr>\n",
       "    <tr>\n",
       "      <th>27</th>\n",
       "      <td>pl</td>\n",
       "      <td>132</td>\n",
       "    </tr>\n",
       "    <tr>\n",
       "      <th>34</th>\n",
       "      <td>th</td>\n",
       "      <td>131</td>\n",
       "    </tr>\n",
       "    <tr>\n",
       "      <th>25</th>\n",
       "      <td>nl</td>\n",
       "      <td>128</td>\n",
       "    </tr>\n",
       "    <tr>\n",
       "      <th>3</th>\n",
       "      <td>cs</td>\n",
       "      <td>124</td>\n",
       "    </tr>\n",
       "    <tr>\n",
       "      <th>29</th>\n",
       "      <td>ro</td>\n",
       "      <td>104</td>\n",
       "    </tr>\n",
       "    <tr>\n",
       "      <th>30</th>\n",
       "      <td>ru</td>\n",
       "      <td>91</td>\n",
       "    </tr>\n",
       "    <tr>\n",
       "      <th>38</th>\n",
       "      <td>vi</td>\n",
       "      <td>80</td>\n",
       "    </tr>\n",
       "    <tr>\n",
       "      <th>16</th>\n",
       "      <td>ht</td>\n",
       "      <td>79</td>\n",
       "    </tr>\n",
       "    <tr>\n",
       "      <th>36</th>\n",
       "      <td>tr</td>\n",
       "      <td>51</td>\n",
       "    </tr>\n",
       "    <tr>\n",
       "      <th>0</th>\n",
       "      <td>ar</td>\n",
       "      <td>36</td>\n",
       "    </tr>\n",
       "    <tr>\n",
       "      <th>4</th>\n",
       "      <td>cy</td>\n",
       "      <td>28</td>\n",
       "    </tr>\n",
       "    <tr>\n",
       "      <th>13</th>\n",
       "      <td>fi</td>\n",
       "      <td>22</td>\n",
       "    </tr>\n",
       "    <tr>\n",
       "      <th>17</th>\n",
       "      <td>hu</td>\n",
       "      <td>17</td>\n",
       "    </tr>\n",
       "    <tr>\n",
       "      <th>39</th>\n",
       "      <td>zh</td>\n",
       "      <td>13</td>\n",
       "    </tr>\n",
       "    <tr>\n",
       "      <th>7</th>\n",
       "      <td>el</td>\n",
       "      <td>12</td>\n",
       "    </tr>\n",
       "    <tr>\n",
       "      <th>19</th>\n",
       "      <td>is</td>\n",
       "      <td>7</td>\n",
       "    </tr>\n",
       "    <tr>\n",
       "      <th>1</th>\n",
       "      <td>bg</td>\n",
       "      <td>2</td>\n",
       "    </tr>\n",
       "    <tr>\n",
       "      <th>12</th>\n",
       "      <td>fa</td>\n",
       "      <td>2</td>\n",
       "    </tr>\n",
       "    <tr>\n",
       "      <th>33</th>\n",
       "      <td>ta</td>\n",
       "      <td>1</td>\n",
       "    </tr>\n",
       "  </tbody>\n",
       "</table>\n",
       "</div>"
      ],
      "text/plain": [
       "   lang   count\n",
       "28   pt  255297\n",
       "8    en   36784\n",
       "9    es   10661\n",
       "21   ja    4356\n",
       "14   fr    2920\n",
       "37  und    2000\n",
       "20   it    1474\n",
       "18   in    1178\n",
       "5    da     938\n",
       "23   lt     735\n",
       "35   tl     701\n",
       "26   no     343\n",
       "24   lv     305\n",
       "32   sv     305\n",
       "6    de     294\n",
       "11   eu     281\n",
       "31   sl     207\n",
       "10   et     196\n",
       "15   hi     167\n",
       "22   ko     164\n",
       "2    ca     140\n",
       "27   pl     132\n",
       "34   th     131\n",
       "25   nl     128\n",
       "3    cs     124\n",
       "29   ro     104\n",
       "30   ru      91\n",
       "38   vi      80\n",
       "16   ht      79\n",
       "36   tr      51\n",
       "0    ar      36\n",
       "4    cy      28\n",
       "13   fi      22\n",
       "17   hu      17\n",
       "39   zh      13\n",
       "7    el      12\n",
       "19   is       7\n",
       "1    bg       2\n",
       "12   fa       2\n",
       "33   ta       1"
      ]
     },
     "execution_count": 9,
     "metadata": {},
     "output_type": "execute_result"
    }
   ],
   "source": [
    "freq_df = df_no_rt.groupby('lang')['lang'].count().reset_index(name=\"count\").sort_values(by='count', ascending=False)\n",
    "freq_df"
   ]
  },
  {
   "cell_type": "markdown",
   "id": "1e0b12da",
   "metadata": {},
   "source": [
    "## Analyse sur les réactions françaises\n",
    "En utilisant les métadonnées de twitter sur la langue, j'isole les tweets français"
   ]
  },
  {
   "cell_type": "code",
   "execution_count": 10,
   "id": "13017332",
   "metadata": {},
   "outputs": [
    {
     "data": {
      "text/html": [
       "<div>\n",
       "<style scoped>\n",
       "    .dataframe tbody tr th:only-of-type {\n",
       "        vertical-align: middle;\n",
       "    }\n",
       "\n",
       "    .dataframe tbody tr th {\n",
       "        vertical-align: top;\n",
       "    }\n",
       "\n",
       "    .dataframe thead th {\n",
       "        text-align: right;\n",
       "    }\n",
       "</style>\n",
       "<table border=\"1\" class=\"dataframe\">\n",
       "  <thead>\n",
       "    <tr style=\"text-align: right;\">\n",
       "      <th></th>\n",
       "      <th>twt_id</th>\n",
       "      <th>date</th>\n",
       "      <th>full_text</th>\n",
       "      <th>usr_name</th>\n",
       "      <th>usr_id</th>\n",
       "      <th>lang</th>\n",
       "      <th>location</th>\n",
       "      <th>description</th>\n",
       "    </tr>\n",
       "  </thead>\n",
       "  <tbody>\n",
       "    <tr>\n",
       "      <th>232</th>\n",
       "      <td>1423427324524089344</td>\n",
       "      <td>2021-08-05 23:34:54</td>\n",
       "      <td>N’essayez pas le skate en pleine rue en étant ...</td>\n",
       "      <td>didine1eredunom</td>\n",
       "      <td>2968497256</td>\n",
       "      <td>fr</td>\n",
       "      <td>Belgique</td>\n",
       "      <td>BLM | she/her | 🌈 | 22</td>\n",
       "    </tr>\n",
       "    <tr>\n",
       "      <th>330</th>\n",
       "      <td>1423426708623998981</td>\n",
       "      <td>2021-08-05 23:32:27</td>\n",
       "      <td>@yykeste tu fais du skate ?</td>\n",
       "      <td>hbmeyy</td>\n",
       "      <td>1255657839831498752</td>\n",
       "      <td>fr</td>\n",
       "      <td>NaN</td>\n",
       "      <td>الله</td>\n",
       "    </tr>\n",
       "    <tr>\n",
       "      <th>482</th>\n",
       "      <td>1423425754780651529</td>\n",
       "      <td>2021-08-05 23:28:40</td>\n",
       "      <td>@djangophett @jvlmus IRL je le croise et je le...</td>\n",
       "      <td>ZASSIO1</td>\n",
       "      <td>1048882354390020096</td>\n",
       "      <td>fr</td>\n",
       "      <td>Bah chez moi frère</td>\n",
       "      <td>On est là hein \\n\\n\\n🧐</td>\n",
       "    </tr>\n",
       "    <tr>\n",
       "      <th>800</th>\n",
       "      <td>1423423842245124098</td>\n",
       "      <td>2021-08-05 23:21:04</td>\n",
       "      <td>@Bruxellois_2 @Safvyaa Ptdrr tg toi t’es une r...</td>\n",
       "      <td>LyaTaReus</td>\n",
       "      <td>1412099692066967553</td>\n",
       "      <td>fr</td>\n",
       "      <td>Ta voisine (Bxl/Casa)</td>\n",
       "      <td>🇲🇦</td>\n",
       "    </tr>\n",
       "    <tr>\n",
       "      <th>892</th>\n",
       "      <td>1423423225103622146</td>\n",
       "      <td>2021-08-05 23:18:37</td>\n",
       "      <td>J'ai fait du skate dans tout dole jsuis contente</td>\n",
       "      <td>TropDeSel</td>\n",
       "      <td>1172728018575462400</td>\n",
       "      <td>fr</td>\n",
       "      <td>route de tt les périls</td>\n",
       "      <td>Lilac Straw ♍she/her / pan&amp;ace / INTP 9w1 / 19...</td>\n",
       "    </tr>\n",
       "  </tbody>\n",
       "</table>\n",
       "</div>"
      ],
      "text/plain": [
       "                  twt_id                 date  \\\n",
       "232  1423427324524089344  2021-08-05 23:34:54   \n",
       "330  1423426708623998981  2021-08-05 23:32:27   \n",
       "482  1423425754780651529  2021-08-05 23:28:40   \n",
       "800  1423423842245124098  2021-08-05 23:21:04   \n",
       "892  1423423225103622146  2021-08-05 23:18:37   \n",
       "\n",
       "                                             full_text         usr_name  \\\n",
       "232  N’essayez pas le skate en pleine rue en étant ...  didine1eredunom   \n",
       "330                        @yykeste tu fais du skate ?           hbmeyy   \n",
       "482  @djangophett @jvlmus IRL je le croise et je le...          ZASSIO1   \n",
       "800  @Bruxellois_2 @Safvyaa Ptdrr tg toi t’es une r...        LyaTaReus   \n",
       "892   J'ai fait du skate dans tout dole jsuis contente        TropDeSel   \n",
       "\n",
       "                  usr_id lang                 location  \\\n",
       "232           2968497256   fr                Belgique    \n",
       "330  1255657839831498752   fr                      NaN   \n",
       "482  1048882354390020096   fr       Bah chez moi frère   \n",
       "800  1412099692066967553   fr    Ta voisine (Bxl/Casa)   \n",
       "892  1172728018575462400   fr  route de tt les périls    \n",
       "\n",
       "                                           description  \n",
       "232                             BLM | she/her | 🌈 | 22  \n",
       "330                                               الله  \n",
       "482                             On est là hein \\n\\n\\n🧐  \n",
       "800                                                 🇲🇦  \n",
       "892  Lilac Straw ♍she/her / pan&ace / INTP 9w1 / 19...  "
      ]
     },
     "execution_count": 10,
     "metadata": {},
     "output_type": "execute_result"
    }
   ],
   "source": [
    "df_fr = df_no_rt[df_no_rt.lang == 'fr']\n",
    "df_fr.head()"
   ]
  },
  {
   "cell_type": "code",
   "execution_count": 11,
   "id": "4968077e",
   "metadata": {},
   "outputs": [
    {
     "data": {
      "text/html": [
       "<div>\n",
       "<style scoped>\n",
       "    .dataframe tbody tr th:only-of-type {\n",
       "        vertical-align: middle;\n",
       "    }\n",
       "\n",
       "    .dataframe tbody tr th {\n",
       "        vertical-align: top;\n",
       "    }\n",
       "\n",
       "    .dataframe thead th {\n",
       "        text-align: right;\n",
       "    }\n",
       "</style>\n",
       "<table border=\"1\" class=\"dataframe\">\n",
       "  <thead>\n",
       "    <tr style=\"text-align: right;\">\n",
       "      <th></th>\n",
       "      <th>twt_id</th>\n",
       "      <th>date</th>\n",
       "      <th>full_text</th>\n",
       "      <th>usr_name</th>\n",
       "      <th>usr_id</th>\n",
       "      <th>lang</th>\n",
       "      <th>location</th>\n",
       "      <th>description</th>\n",
       "    </tr>\n",
       "  </thead>\n",
       "  <tbody>\n",
       "    <tr>\n",
       "      <th>232</th>\n",
       "      <td>1423427324524089344</td>\n",
       "      <td>2021-08-05 23:34:54</td>\n",
       "      <td>N’essayez pas le skate en pleine rue en étant ...</td>\n",
       "      <td>didine1eredunom</td>\n",
       "      <td>2968497256</td>\n",
       "      <td>fr</td>\n",
       "      <td>Belgique</td>\n",
       "      <td>BLM | she/her | 🌈 | 22</td>\n",
       "    </tr>\n",
       "    <tr>\n",
       "      <th>330</th>\n",
       "      <td>1423426708623998981</td>\n",
       "      <td>2021-08-05 23:32:27</td>\n",
       "      <td>@yykeste tu fais du skate ?</td>\n",
       "      <td>hbmeyy</td>\n",
       "      <td>1255657839831498752</td>\n",
       "      <td>fr</td>\n",
       "      <td>NaN</td>\n",
       "      <td>الله</td>\n",
       "    </tr>\n",
       "    <tr>\n",
       "      <th>482</th>\n",
       "      <td>1423425754780651529</td>\n",
       "      <td>2021-08-05 23:28:40</td>\n",
       "      <td>@djangophett @jvlmus IRL je le croise et je le...</td>\n",
       "      <td>ZASSIO1</td>\n",
       "      <td>1048882354390020096</td>\n",
       "      <td>fr</td>\n",
       "      <td>Bah chez moi frère</td>\n",
       "      <td>On est là hein \\n\\n\\n🧐</td>\n",
       "    </tr>\n",
       "    <tr>\n",
       "      <th>800</th>\n",
       "      <td>1423423842245124098</td>\n",
       "      <td>2021-08-05 23:21:04</td>\n",
       "      <td>@Bruxellois_2 @Safvyaa Ptdrr tg toi t’es une r...</td>\n",
       "      <td>LyaTaReus</td>\n",
       "      <td>1412099692066967553</td>\n",
       "      <td>fr</td>\n",
       "      <td>Ta voisine (Bxl/Casa)</td>\n",
       "      <td>🇲🇦</td>\n",
       "    </tr>\n",
       "    <tr>\n",
       "      <th>892</th>\n",
       "      <td>1423423225103622146</td>\n",
       "      <td>2021-08-05 23:18:37</td>\n",
       "      <td>J'ai fait du skate dans tout dole jsuis contente</td>\n",
       "      <td>TropDeSel</td>\n",
       "      <td>1172728018575462400</td>\n",
       "      <td>fr</td>\n",
       "      <td>route de tt les périls</td>\n",
       "      <td>Lilac Straw ♍she/her / pan&amp;ace / INTP 9w1 / 19...</td>\n",
       "    </tr>\n",
       "  </tbody>\n",
       "</table>\n",
       "</div>"
      ],
      "text/plain": [
       "                  twt_id                 date  \\\n",
       "232  1423427324524089344  2021-08-05 23:34:54   \n",
       "330  1423426708623998981  2021-08-05 23:32:27   \n",
       "482  1423425754780651529  2021-08-05 23:28:40   \n",
       "800  1423423842245124098  2021-08-05 23:21:04   \n",
       "892  1423423225103622146  2021-08-05 23:18:37   \n",
       "\n",
       "                                             full_text         usr_name  \\\n",
       "232  N’essayez pas le skate en pleine rue en étant ...  didine1eredunom   \n",
       "330                        @yykeste tu fais du skate ?           hbmeyy   \n",
       "482  @djangophett @jvlmus IRL je le croise et je le...          ZASSIO1   \n",
       "800  @Bruxellois_2 @Safvyaa Ptdrr tg toi t’es une r...        LyaTaReus   \n",
       "892   J'ai fait du skate dans tout dole jsuis contente        TropDeSel   \n",
       "\n",
       "                  usr_id lang                 location  \\\n",
       "232           2968497256   fr                Belgique    \n",
       "330  1255657839831498752   fr                      NaN   \n",
       "482  1048882354390020096   fr       Bah chez moi frère   \n",
       "800  1412099692066967553   fr    Ta voisine (Bxl/Casa)   \n",
       "892  1172728018575462400   fr  route de tt les périls    \n",
       "\n",
       "                                           description  \n",
       "232                             BLM | she/her | 🌈 | 22  \n",
       "330                                               الله  \n",
       "482                             On est là hein \\n\\n\\n🧐  \n",
       "800                                                 🇲🇦  \n",
       "892  Lilac Straw ♍she/her / pan&ace / INTP 9w1 / 19...  "
      ]
     },
     "execution_count": 11,
     "metadata": {},
     "output_type": "execute_result"
    }
   ],
   "source": [
    "df_fr.head()"
   ]
  },
  {
   "cell_type": "code",
   "execution_count": 12,
   "id": "1405d9c7",
   "metadata": {
    "tags": []
   },
   "outputs": [
    {
     "name": "stdout",
     "output_type": "stream",
     "text": [
      "N’essayez pas le skate en pleine rue en étant bourré \n",
      "\n",
      "@yykeste tu fais du skate ? \n",
      "\n",
      "@djangophett @jvlmus IRL je le croise et je le réoriente vers le skate parc le plus proche mon reuf \n",
      "\n",
      "@Bruxellois_2 @Safvyaa Ptdrr tg toi t’es une roulette de skate pourquoi tu parles \n",
      "\n",
      "J'ai fait du skate dans tout dole jsuis contente \n",
      "\n",
      "@DisSlaughterBoi Il c pas en vérité tes plus un negro skate rouleur https://t.co/2kKJMUkEFU \n",
      "\n",
      "@FayzerFN @dybdybfn \"cringe\" on est au skate park frr ??? \n",
      "\n",
      "AU DE SKATE AAAAAAAAAAAA https://t.co/0BFbGYS7KF \n",
      "\n",
      "@maxou__f Il est ou ton skate ? \n",
      "\n",
      "Savoir rouler en skate ✅                                Se casser la gueule en skate ✅ \n",
      "\n"
     ]
    }
   ],
   "source": [
    "i = 1\n",
    "lim = 10\n",
    "for txt in df_fr.full_text:\n",
    "    print(txt, \"\\n\")\n",
    "    i+=1\n",
    "    if i > lim : break"
   ]
  },
  {
   "cell_type": "markdown",
   "id": "7f906c83",
   "metadata": {},
   "source": [
    "Les tweets n'ont pas tous l'air de concerner les J-O, et les réactions concernat ces jeux ont l'air assez mitigés. "
   ]
  },
  {
   "cell_type": "markdown",
   "id": "085e2643",
   "metadata": {},
   "source": [
    "### Vérification du nombre de réaction au sujet de la disparition du karaté des jo et mentionnant le skate"
   ]
  },
  {
   "cell_type": "code",
   "execution_count": 13,
   "id": "ffabf9fe",
   "metadata": {
    "tags": []
   },
   "outputs": [
    {
     "name": "stdout",
     "output_type": "stream",
     "text": [
      "0.017465753424657535\n"
     ]
    }
   ],
   "source": [
    "df_karate = df_fr[df_fr['full_text'].str.contains(\"karat\")]\n",
    "print(df_karate.shape[0]/df_fr.shape[0])"
   ]
  },
  {
   "cell_type": "markdown",
   "id": "10d44ef3",
   "metadata": {},
   "source": [
    "On observe un certain nombre de tweets mentionnant aussi le karaté"
   ]
  },
  {
   "cell_type": "code",
   "execution_count": 14,
   "id": "ce8a8ddb",
   "metadata": {
    "tags": []
   },
   "outputs": [
    {
     "name": "stdout",
     "output_type": "stream",
     "text": [
      "@Steven_DaCosta @EquipeFRA @worldkarate_wkf @ffkarate @Tokyo2020fr @Visa_Fr @Sports_gouv @Olympics @Tokyo2020 @EmmanuelMacron @TonyEstanguet @Paris2024 Merci de permettre à ce champion de défendre son titre chez lui en 2024 vous n'avez aucune excuse. Ce sport séculaire a autant sa place au JO que le skate ou le Golf. \n",
      "\n",
      "Supprimer le karaté pour mettre du hip hop, serieux... \n",
      "\n",
      "Les JO se modernisent déjà très bien avec le basket 3*3, le skate Park, skate street, l'escalade etc. Le hip hop c'est too much https://t.co/t035c9HUD7 \n",
      "\n",
      "Donc si je comprends bien aux JO 2024 plus de karaté mais par contre on va se taper skate et breakdance ! J’ai dû rater un truc ! #JeuxOlympiques \n",
      "\n",
      "@EquipeFRA @FFRollerSkate @FranceOlympique @Sports_gouv On garde le karaté et on laisse le skate! \n",
      "\n",
      "@Sarah_Croch1 Depuis tokyo chaque hôte a le droit de mettre au programme 5 disciplines additionnel. Le japon avait fait revenir le karaté ( l'escalade, le skate, le surf et le baseball) \n",
      "\n",
      "@DidierBourbon @francetvsport Le karaté correspond 1000 fois plus à un sport olympique que le surf de mes couilles ou le breakdance ou encore le skate..en+ on parle d'un sport avec une fédération qui gagne à être exposé aux JO..jai regardé skate et surf cette année c de la merde en barre.. \n",
      "\n",
      "@kaku_lgx @MatBou33 D'ailleurs tous les sports inclus dans ces jeux, surf, skate ( même si j'ai une réserve sur celui ci) karaté et escalade ont été vraiment kiffant. \n",
      "\n",
      "C'est quoi ces conneries remplacer le karaté par du hip hop, on a rien dit pour le bmx freestyle et le skate mais faut doser un peu par contre #Paris2024 \n",
      "\n",
      "toujours bon de rappeler que pour les jeux olympiques de paris 2024 le karaté a été retirer mais le skate non la plus grosse fraude jamais connu à l’heure actuelle  #paris2024 \n",
      "\n",
      "Moi la gym (trampoline inclu), natation, athletisme, plongeon, natation synchronisée, basket, volley, hand, water polo, judo, karaté, escrime, lutte, escalade, canoë en eau vive car cest marrant, skate, surf, triathlon. Et peut etre taekwondo et halterophilie. \n",
      "\n",
      "@francetvsport Certes, c'est scandaleux de voir le karaté snobé aux JO 2024, mais pas besoin d'attaquer le breakdance ou le skate, ils y sont pour rien... 🙄 Par contre, aucune logique de conserver la boxe corrompue au détriment du karaté aux prochaines olympiades ! 😒 \n",
      "\n",
      "Ma fille de 12 ans vient de s'apercevoir qu'elle était déjà trop vieille pour décrocher une médaille à Paris 2024, en skate...!\n",
      "Je l'inscrit au karaté ? \n",
      "\n",
      "C’est un peu deg qu’ils retirent le karaté alors qu’on vient de gagner une médaille d’or. En plus je suis désolée mais le skate c’est deg à voir. \n",
      "\n",
      "@Rico00131 Le skate je ne comprends pas ce que ça fait aux JO (sauf pour attirer un public jeune). Idem pour le surf. Par contre j’ai bien aimé l’escalade et le basket 3*3. Le karaté j’y comprends rien mais y’a une certaine tradition derrière : pour moi c’est à garder \n",
      "\n",
      "@Kaisersovas @RaS0o8 Y'a des sports dont on pourrait se passer au JO selon moi genre le beach volley, les sports style basket à 3.... etc Mais le karaté ET le skate on largement leur place, car c'est pas redondant par rapport au autres sports. \n",
      "\n"
     ]
    }
   ],
   "source": [
    "i = 1\n",
    "lim = 15\n",
    "for txt in df_karate.full_text:\n",
    "    print(txt, \"\\n\")\n",
    "    i+=1\n",
    "    if i > lim : break"
   ]
  },
  {
   "cell_type": "markdown",
   "id": "5b009d86",
   "metadata": {},
   "source": [
    "Les réactions n'ont pas l'air très positives dans l'ensemble"
   ]
  },
  {
   "cell_type": "markdown",
   "id": "d2a572b7",
   "metadata": {},
   "source": [
    "### Analyse de sentiment sur les tweets français\n",
    "On cherche à mesurer le sentiment global exprimé autour du skate pendant les JO en france."
   ]
  },
  {
   "cell_type": "code",
   "execution_count": 15,
   "id": "a219905e",
   "metadata": {},
   "outputs": [],
   "source": [
    "from textblob import TextBlob, Blobber\n",
    "from textblob_fr import PatternTagger, PatternAnalyzer\n",
    "tb = Blobber(pos_tagger=PatternTagger(), analyzer=PatternAnalyzer())"
   ]
  },
  {
   "cell_type": "code",
   "execution_count": 22,
   "id": "b2b78216",
   "metadata": {},
   "outputs": [
    {
     "name": "stderr",
     "output_type": "stream",
     "text": [
      "D:\\Users\\alexa\\anaconda3\\lib\\site-packages\\ipykernel_launcher.py:1: SettingWithCopyWarning: \n",
      "A value is trying to be set on a copy of a slice from a DataFrame.\n",
      "Try using .loc[row_indexer,col_indexer] = value instead\n",
      "\n",
      "See the caveats in the documentation: https://pandas.pydata.org/pandas-docs/stable/user_guide/indexing.html#returning-a-view-versus-a-copy\n",
      "  \"\"\"Entry point for launching an IPython kernel.\n"
     ]
    }
   ],
   "source": [
    "df_fr['sentiment'] = df_fr.apply(lambda x: tb(x.full_text).sentiment[0], axis=1)\n",
    "df_karate = df_fr[df_fr['full_text'].str.contains(\"karat\")].reset_index()"
   ]
  },
  {
   "cell_type": "code",
   "execution_count": 23,
   "id": "cf702011",
   "metadata": {},
   "outputs": [
    {
     "data": {
      "text/html": [
       "<div>\n",
       "<style scoped>\n",
       "    .dataframe tbody tr th:only-of-type {\n",
       "        vertical-align: middle;\n",
       "    }\n",
       "\n",
       "    .dataframe tbody tr th {\n",
       "        vertical-align: top;\n",
       "    }\n",
       "\n",
       "    .dataframe thead th {\n",
       "        text-align: right;\n",
       "    }\n",
       "</style>\n",
       "<table border=\"1\" class=\"dataframe\">\n",
       "  <thead>\n",
       "    <tr style=\"text-align: right;\">\n",
       "      <th></th>\n",
       "      <th>index</th>\n",
       "      <th>twt_id</th>\n",
       "      <th>date</th>\n",
       "      <th>full_text</th>\n",
       "      <th>usr_name</th>\n",
       "      <th>usr_id</th>\n",
       "      <th>lang</th>\n",
       "      <th>location</th>\n",
       "      <th>description</th>\n",
       "      <th>sentiment</th>\n",
       "    </tr>\n",
       "  </thead>\n",
       "  <tbody>\n",
       "    <tr>\n",
       "      <th>0</th>\n",
       "      <td>4331</td>\n",
       "      <td>1423397054953447424</td>\n",
       "      <td>2021-08-05 21:34:37</td>\n",
       "      <td>@Steven_DaCosta @EquipeFRA @worldkarate_wkf @f...</td>\n",
       "      <td>mcfly_hg</td>\n",
       "      <td>1298637133352185858</td>\n",
       "      <td>fr</td>\n",
       "      <td>NaN</td>\n",
       "      <td>NaN</td>\n",
       "      <td>0.300000</td>\n",
       "    </tr>\n",
       "    <tr>\n",
       "      <th>1</th>\n",
       "      <td>5097</td>\n",
       "      <td>1423391362267889673</td>\n",
       "      <td>2021-08-05 21:12:00</td>\n",
       "      <td>Supprimer le karaté pour mettre du hip hop, se...</td>\n",
       "      <td>FantaSuares</td>\n",
       "      <td>619374637</td>\n",
       "      <td>fr</td>\n",
       "      <td>France</td>\n",
       "      <td>27 🇸🇳🇫🇷 Chemical engineer👩‍🔬</td>\n",
       "      <td>0.225000</td>\n",
       "    </tr>\n",
       "    <tr>\n",
       "      <th>2</th>\n",
       "      <td>5631</td>\n",
       "      <td>1423387498948923392</td>\n",
       "      <td>2021-08-05 20:56:39</td>\n",
       "      <td>Donc si je comprends bien aux JO 2024 plus de ...</td>\n",
       "      <td>Dantarco</td>\n",
       "      <td>461557112</td>\n",
       "      <td>fr</td>\n",
       "      <td>Bordeaux</td>\n",
       "      <td>amoureux de Bordeaux et du Bassin d'Arcachon  ...</td>\n",
       "      <td>0.111458</td>\n",
       "    </tr>\n",
       "    <tr>\n",
       "      <th>3</th>\n",
       "      <td>8359</td>\n",
       "      <td>1423367738450497541</td>\n",
       "      <td>2021-08-05 19:38:08</td>\n",
       "      <td>@EquipeFRA @FFRollerSkate @FranceOlympique @Sp...</td>\n",
       "      <td>Grandduch63</td>\n",
       "      <td>587759769</td>\n",
       "      <td>fr</td>\n",
       "      <td>Auvergne, France</td>\n",
       "      <td>NaN</td>\n",
       "      <td>0.000000</td>\n",
       "    </tr>\n",
       "    <tr>\n",
       "      <th>4</th>\n",
       "      <td>11198</td>\n",
       "      <td>1423349328228331525</td>\n",
       "      <td>2021-08-05 18:24:59</td>\n",
       "      <td>@Sarah_Croch1 Depuis tokyo chaque hôte a le dr...</td>\n",
       "      <td>ladareune</td>\n",
       "      <td>1263022201</td>\n",
       "      <td>fr</td>\n",
       "      <td>Paris, France</td>\n",
       "      <td>Cherche pas t'as tort. Moi c'est La Dareune et...</td>\n",
       "      <td>0.110000</td>\n",
       "    </tr>\n",
       "  </tbody>\n",
       "</table>\n",
       "</div>"
      ],
      "text/plain": [
       "   index               twt_id                 date  \\\n",
       "0   4331  1423397054953447424  2021-08-05 21:34:37   \n",
       "1   5097  1423391362267889673  2021-08-05 21:12:00   \n",
       "2   5631  1423387498948923392  2021-08-05 20:56:39   \n",
       "3   8359  1423367738450497541  2021-08-05 19:38:08   \n",
       "4  11198  1423349328228331525  2021-08-05 18:24:59   \n",
       "\n",
       "                                           full_text     usr_name  \\\n",
       "0  @Steven_DaCosta @EquipeFRA @worldkarate_wkf @f...     mcfly_hg   \n",
       "1  Supprimer le karaté pour mettre du hip hop, se...  FantaSuares   \n",
       "2  Donc si je comprends bien aux JO 2024 plus de ...     Dantarco   \n",
       "3  @EquipeFRA @FFRollerSkate @FranceOlympique @Sp...  Grandduch63   \n",
       "4  @Sarah_Croch1 Depuis tokyo chaque hôte a le dr...    ladareune   \n",
       "\n",
       "                usr_id lang          location  \\\n",
       "0  1298637133352185858   fr               NaN   \n",
       "1            619374637   fr            France   \n",
       "2            461557112   fr          Bordeaux   \n",
       "3            587759769   fr  Auvergne, France   \n",
       "4           1263022201   fr     Paris, France   \n",
       "\n",
       "                                         description  sentiment  \n",
       "0                                                NaN   0.300000  \n",
       "1                       27 🇸🇳🇫🇷 Chemical engineer👩‍🔬   0.225000  \n",
       "2  amoureux de Bordeaux et du Bassin d'Arcachon  ...   0.111458  \n",
       "3                                                NaN   0.000000  \n",
       "4  Cherche pas t'as tort. Moi c'est La Dareune et...   0.110000  "
      ]
     },
     "execution_count": 23,
     "metadata": {},
     "output_type": "execute_result"
    }
   ],
   "source": [
    "df_karate.head()"
   ]
  },
  {
   "cell_type": "code",
   "execution_count": 31,
   "id": "24d0bc32",
   "metadata": {},
   "outputs": [
    {
     "name": "stdout",
     "output_type": "stream",
     "text": [
      "@Steven_DaCosta @EquipeFRA @worldkarate_wkf @ffkarate @Tokyo2020fr @Visa_Fr @Sports_gouv @Olympics @Tokyo2020 @EmmanuelMacron @TonyEstanguet @Paris2024 Merci de permettre à ce champion de défendre son titre chez lui en 2024 vous n'avez aucune excuse. Ce sport séculaire a autant sa place au JO que le skate ou le Golf.\n",
      "0.3 \n",
      "\n",
      "Supprimer le karaté pour mettre du hip hop, serieux... \n",
      "\n",
      "Les JO se modernisent déjà très bien avec le basket 3*3, le skate Park, skate street, l'escalade etc. Le hip hop c'est too much https://t.co/t035c9HUD7\n",
      "0.225 \n",
      "\n",
      "Donc si je comprends bien aux JO 2024 plus de karaté mais par contre on va se taper skate et breakdance ! J’ai dû rater un truc ! #JeuxOlympiques\n",
      "0.11145833333333333 \n",
      "\n",
      "@EquipeFRA @FFRollerSkate @FranceOlympique @Sports_gouv On garde le karaté et on laisse le skate!\n",
      "0.0 \n",
      "\n",
      "@Sarah_Croch1 Depuis tokyo chaque hôte a le droit de mettre au programme 5 disciplines additionnel. Le japon avait fait revenir le karaté ( l'escalade, le skate, le surf et le baseball)\n",
      "0.11000000000000001 \n",
      "\n",
      "@DidierBourbon @francetvsport Le karaté correspond 1000 fois plus à un sport olympique que le surf de mes couilles ou le breakdance ou encore le skate..en+ on parle d'un sport avec une fédération qui gagne à être exposé aux JO..jai regardé skate et surf cette année c de la merde en barre..\n",
      "-0.27499999999999997 \n",
      "\n",
      "@kaku_lgx @MatBou33 D'ailleurs tous les sports inclus dans ces jeux, surf, skate ( même si j'ai une réserve sur celui ci) karaté et escalade ont été vraiment kiffant.\n",
      "0.08 \n",
      "\n",
      "C'est quoi ces conneries remplacer le karaté par du hip hop, on a rien dit pour le bmx freestyle et le skate mais faut doser un peu par contre #Paris2024\n",
      "-0.04 \n",
      "\n",
      "toujours bon de rappeler que pour les jeux olympiques de paris 2024 le karaté a été retirer mais le skate non la plus grosse fraude jamais connu à l’heure actuelle  #paris2024\n",
      "0.098 \n",
      "\n",
      "Moi la gym (trampoline inclu), natation, athletisme, plongeon, natation synchronisée, basket, volley, hand, water polo, judo, karaté, escrime, lutte, escalade, canoë en eau vive car cest marrant, skate, surf, triathlon. Et peut etre taekwondo et halterophilie.\n",
      "0.335 \n",
      "\n"
     ]
    }
   ],
   "source": [
    "lim = 10\n",
    "for i in range(lim):\n",
    "    print(df_karate.loc[i,\"full_text\"])\n",
    "    print(df_karate.loc[i,\"sentiment\"], \"\\n\")"
   ]
  },
  {
   "cell_type": "code",
   "execution_count": 17,
   "id": "9ee241a3",
   "metadata": {},
   "outputs": [
    {
     "data": {
      "image/png": "[encoded data removed]",
      "text/plain": [
       "<Figure size 432x288 with 1 Axes>"
      ]
     },
     "metadata": {
      "needs_background": "light"
     },
     "output_type": "display_data"
    },
    {
     "data": {
      "image/png": "[encoded data removed]",
      "text/plain": [
       "<Figure size 432x288 with 1 Axes>"
      ]
     },
     "metadata": {
      "needs_background": "light"
     },
     "output_type": "display_data"
    },
    {
     "name": "stdout",
     "output_type": "stream",
     "text": [
      "0.0\n",
      "0.010000000000000004\n"
     ]
    }
   ],
   "source": [
    "df_fr['sentiment'].hist(bins=50)\n",
    "plt.xlim(-1, 1)\n",
    "plt.show()\n",
    "df_karate['sentiment'].hist(bins=30)\n",
    "plt.xlim(-1, 1)\n",
    "plt.show()\n",
    "print(df_fr['sentiment'].median())\n",
    "print(df_karate['sentiment'].median())"
   ]
  },
  {
   "cell_type": "markdown",
   "id": "ad6a5a11",
   "metadata": {},
   "source": [
    "Les répartitions ont l'air un peu différentes quand on filtre les tweets mentionnant le karaté"
   ]
  },
  {
   "cell_type": "markdown",
   "id": "9622cea0",
   "metadata": {},
   "source": [
    "### Analyse lexicale"
   ]
  },
  {
   "cell_type": "code",
   "execution_count": 40,
   "id": "c719a150",
   "metadata": {},
   "outputs": [],
   "source": [
    "from sklearn.feature_extraction.text import TfidfVectorizer\n",
    "from sklearn.feature_extraction.text import CountVectorizer\n",
    "from nltk.corpus import stopwords\n",
    "\n",
    "final_stopwords_list = stopwords.words('french') + ['https',\"http\",\"ça\", \"fait\",\"quand\", \"co\",\"aussi\",\"tous\",\"rien\",\"peu\",\"dit\",\"alors\",\"là\",\"tout\",\"vraiment\",\"être\",\"dire\",\"quoi\",\"si\",\"donc\"]\n",
    "vectorizer = TfidfVectorizer(max_features=200000, min_df=0.008, stop_words=final_stopwords_list, use_idf=True)\n",
    "vectorizer = CountVectorizer(max_features=200000, min_df=0.008, stop_words=final_stopwords_list)\n",
    "X = vectorizer.fit_transform(df_fr.full_text)"
   ]
  },
  {
   "cell_type": "markdown",
   "id": "7c7c1c45",
   "metadata": {},
   "source": [
    "On peut visualiser les différents mots du lexique et les différents stopwords : "
   ]
  },
  {
   "cell_type": "code",
   "execution_count": 20,
   "id": "fbc8be25",
   "metadata": {
    "tags": []
   },
   "outputs": [
    {
     "name": "stdout",
     "output_type": "stream",
     "text": [
      "['12', '13', '15', '2021', '2024', 'acheter', 'aime', 'aller', 'anderson', 'ans', 'apprendre', 'après', 'autre', 'autres', 'avant', 'avoir', 'bah', 'basket', 'beaucoup', 'bien', 'bmx', 'board', 'bon', 'breakdance', 'bruno', 'ca', 'car', 'cette', 'ceux', 'chez', 'comme', 'comment', 'contre', 'cool', 'coup', 'depuis', 'deux', 'dis', 'discipline', 'déjà', 'elles', 'encore', 'entre', 'envie', 'escalade', 'etc', 'faire', 'fais', 'faut', 'femmes', 'fille', 'filles', 'finale', 'fois', 'font', 'fou', 'france', 'francetvsport', 'français', 'gars', 'genre', 'gens', 'grave', 'hein', 'homervrai', 'incroyable', 'jamais', 'jeunes', 'jeux', 'jeuxolympiques', 'jo', 'jsuis', 'juste', 'karaté', 'le_skate_', 'maintenant', 'mal', 'mars', 'mayer', 'mdr', 'mds', 'mec', 'merci', 'mettre', 'meuf', 'mieux', 'moins', 'moment', 'monde', 'médaille', 'niveau', 'non', 'nouveau', 'nuit', 'of', 'oh', 'ok', 'olympique', 'olympiques', 'or', 'oui', 'où', 'paak', 'parc', 'parce', 'paris', 'park', 'parle', 'parler', 'pendant', 'pense', 'peut', 'peux', 'place', 'planche', 'plus', 'pourquoi', 'quel', 'regarde', 'regarder', 'roller', 'rue', 'sais', 'sans', 'silk', 'skateboard', 'skateboarding', 'sonic', 'sport', 'sports', 'street', 'super', 'surf', 'surtout', 'tellement', 'temps', 'the', 'tokyo', 'tokyo2020', 'toujours', 'toutes', 'trop', 'trouve', 'truc', 'très', 'va', 'vais', 'veut', 'veux', 'via', 'vidéo', 'vie', 'viens', 'voir', 'vois', 'vrai', 'vu', 'vélo', 'ya', 'épreuve', 'épreuves']\n"
     ]
    }
   ],
   "source": [
    "print(vectorizer.get_feature_names())"
   ]
  },
  {
   "cell_type": "code",
   "execution_count": 21,
   "id": "d65be7df",
   "metadata": {},
   "outputs": [
    {
     "name": "stdout",
     "output_type": "stream",
     "text": [
      "frozenset({'vous', 'tu', 'soit', 'auras', 'il', 'aurai', 'ayants', 'fussent', 'sa', 'eût', 'fûmes', 'es', 'serons', 'auraient', 'skate', 'un', 'furent', 'aux', 'aurez', 'aurions', 's', 'quoi', 'eûmes', 'votre', 'été', 'ne', 'https', 'ses', 'eusse', 'aurais', 'rien', 'on', 'nous', 'd', 'serais', 'ai', 'pas', 'ayons', 'avez', 'l', 'aient', 'ce', 'de', 'eus', 'eues', 'sont', 'eusses', 'étée', 'dit', 'serait', 'c', 'aviez', 'serai', 'nos', 't', 'qui', 'la', 'ayant', 'auriez', 'co', 'mais', 'n', 'eut', 'sera', 'se', 'étantes', 'ait', 'étions', 'étiez', 'ils', 'm', 'ma', 'leur', 'aurait', 'soient', 'soyez', 'eussions', 'fût', 'aies', 'était', 'des', 'ou', 'ces', 'est', 'fussions', 'sur', 'avec', 'toi', 'être', 'si', 'fus', 'sois', 'étants', 'aie', 'moi', 'étés', 'suis', 'avait', 'ton', 'serez', 'étais', 'en', 'aurons', 'étaient', 'fûtes', 'par', 'mon', 'au', 'vos', 'alors', 'vraiment', 'fusse', 'étant', 'eux', 'avaient', 'tout', 'eussiez', 'tes', 'fusses', 'eu', 'fait', 'eue', 'elle', 'lui', 'étées', 'quand', 'peu', 'ça', 'seront', 'ta', 'fut', 'à', 'te', 'étante', 'ayantes', 'son', 'eussent', 'les', 'seraient', 'donc', 'êtes', 'une', 'et', 'seriez', 'serions', 'notre', 'j', 'ayante', 'mes', 'aura', 'que', 'eûtes', 'ayez', 'je', 'même', 'ont', 'seras', 'avions', 'dans', 'as', 'auront', 'du', 'avons', 'dire', 'soyons', 'avais', 'tous', 'me', 'pour', 'le', 'fussiez', 'sommes', 'aussi', 'y', 'qu', 'là', 'eurent'})\n"
     ]
    }
   ],
   "source": [
    "print(vectorizer.get_stop_words())"
   ]
  },
  {
   "cell_type": "code",
   "execution_count": 22,
   "id": "44a242ca",
   "metadata": {},
   "outputs": [
    {
     "name": "stdout",
     "output_type": "stream",
     "text": [
      "(2920, 161)\n"
     ]
    }
   ],
   "source": [
    "print(X.shape)"
   ]
  },
  {
   "cell_type": "code",
   "execution_count": 23,
   "id": "beec6525",
   "metadata": {},
   "outputs": [],
   "source": [
    "Xm = np.squeeze(np.asarray(X.mean(0)))"
   ]
  },
  {
   "cell_type": "markdown",
   "id": "70f8cdc5",
   "metadata": {},
   "source": [
    "On fait la moyenne et la variance des différentes features dans le corpus"
   ]
  },
  {
   "cell_type": "code",
   "execution_count": 24,
   "id": "51514b55",
   "metadata": {},
   "outputs": [],
   "source": [
    "from sklearn.preprocessing import StandardScaler\n",
    "scalar = StandardScaler(with_mean=False)\n",
    "scalar.fit(X)\n",
    "Xvar = scalar.var_"
   ]
  },
  {
   "cell_type": "code",
   "execution_count": 25,
   "id": "d969547d",
   "metadata": {},
   "outputs": [
    {
     "data": {
      "image/png": "[encoded data removed]",
      "text/plain": [
       "<Figure size 432x288 with 4 Axes>"
      ]
     },
     "metadata": {
      "needs_background": "light"
     },
     "output_type": "display_data"
    }
   ],
   "source": [
    "words_df = pd.DataFrame({'word': vectorizer.get_feature_names(),\n",
    "                         'id': range(len(vectorizer.get_feature_names())),\n",
    "                       'tf_idf_moy': Xm,\n",
    "                        'tf_idf_var':Xvar})\n",
    "words_df.hist(bins=20)\n",
    "plt.show()"
   ]
  },
  {
   "cell_type": "code",
   "execution_count": 26,
   "id": "dd7b5d15",
   "metadata": {},
   "outputs": [
    {
     "data": {
      "text/html": [
       "<div>\n",
       "<style scoped>\n",
       "    .dataframe tbody tr th:only-of-type {\n",
       "        vertical-align: middle;\n",
       "    }\n",
       "\n",
       "    .dataframe tbody tr th {\n",
       "        vertical-align: top;\n",
       "    }\n",
       "\n",
       "    .dataframe thead th {\n",
       "        text-align: right;\n",
       "    }\n",
       "</style>\n",
       "<table border=\"1\" class=\"dataframe\">\n",
       "  <thead>\n",
       "    <tr style=\"text-align: right;\">\n",
       "      <th></th>\n",
       "      <th>word</th>\n",
       "      <th>id</th>\n",
       "      <th>tf_idf_moy</th>\n",
       "      <th>tf_idf_var</th>\n",
       "    </tr>\n",
       "  </thead>\n",
       "  <tbody>\n",
       "    <tr>\n",
       "      <th>0</th>\n",
       "      <td>12</td>\n",
       "      <td>0</td>\n",
       "      <td>0.011301</td>\n",
       "      <td>0.011859</td>\n",
       "    </tr>\n",
       "    <tr>\n",
       "      <th>1</th>\n",
       "      <td>13</td>\n",
       "      <td>1</td>\n",
       "      <td>0.016096</td>\n",
       "      <td>0.016522</td>\n",
       "    </tr>\n",
       "    <tr>\n",
       "      <th>2</th>\n",
       "      <td>15</td>\n",
       "      <td>2</td>\n",
       "      <td>0.008904</td>\n",
       "      <td>0.008825</td>\n",
       "    </tr>\n",
       "    <tr>\n",
       "      <th>3</th>\n",
       "      <td>2021</td>\n",
       "      <td>3</td>\n",
       "      <td>0.014384</td>\n",
       "      <td>0.022396</td>\n",
       "    </tr>\n",
       "    <tr>\n",
       "      <th>4</th>\n",
       "      <td>2024</td>\n",
       "      <td>4</td>\n",
       "      <td>0.009247</td>\n",
       "      <td>0.009846</td>\n",
       "    </tr>\n",
       "  </tbody>\n",
       "</table>\n",
       "</div>"
      ],
      "text/plain": [
       "   word  id  tf_idf_moy  tf_idf_var\n",
       "0    12   0    0.011301    0.011859\n",
       "1    13   1    0.016096    0.016522\n",
       "2    15   2    0.008904    0.008825\n",
       "3  2021   3    0.014384    0.022396\n",
       "4  2024   4    0.009247    0.009846"
      ]
     },
     "execution_count": 26,
     "metadata": {},
     "output_type": "execute_result"
    }
   ],
   "source": [
    "words_df.head()"
   ]
  },
  {
   "cell_type": "markdown",
   "id": "5f064688",
   "metadata": {},
   "source": [
    "On peut visualiser n features avec les moyennes ou les variances(à chager dans le code) les plus importantes"
   ]
  },
  {
   "cell_type": "code",
   "execution_count": 27,
   "id": "676825b0",
   "metadata": {
    "tags": []
   },
   "outputs": [
    {
     "data": {
      "text/html": [
       "<div>\n",
       "<style scoped>\n",
       "    .dataframe tbody tr th:only-of-type {\n",
       "        vertical-align: middle;\n",
       "    }\n",
       "\n",
       "    .dataframe tbody tr th {\n",
       "        vertical-align: top;\n",
       "    }\n",
       "\n",
       "    .dataframe thead th {\n",
       "        text-align: right;\n",
       "    }\n",
       "</style>\n",
       "<table border=\"1\" class=\"dataframe\">\n",
       "  <thead>\n",
       "    <tr style=\"text-align: right;\">\n",
       "      <th></th>\n",
       "      <th>word</th>\n",
       "      <th>id</th>\n",
       "      <th>tf_idf_moy</th>\n",
       "      <th>tf_idf_var</th>\n",
       "    </tr>\n",
       "  </thead>\n",
       "  <tbody>\n",
       "    <tr>\n",
       "      <th>46</th>\n",
       "      <td>faire</td>\n",
       "      <td>46</td>\n",
       "      <td>0.125000</td>\n",
       "      <td>0.134033</td>\n",
       "    </tr>\n",
       "    <tr>\n",
       "      <th>70</th>\n",
       "      <td>jo</td>\n",
       "      <td>70</td>\n",
       "      <td>0.101712</td>\n",
       "      <td>0.098216</td>\n",
       "    </tr>\n",
       "    <tr>\n",
       "      <th>106</th>\n",
       "      <td>park</td>\n",
       "      <td>106</td>\n",
       "      <td>0.086301</td>\n",
       "      <td>0.081593</td>\n",
       "    </tr>\n",
       "    <tr>\n",
       "      <th>115</th>\n",
       "      <td>plus</td>\n",
       "      <td>115</td>\n",
       "      <td>0.079110</td>\n",
       "      <td>0.092714</td>\n",
       "    </tr>\n",
       "    <tr>\n",
       "      <th>19</th>\n",
       "      <td>bien</td>\n",
       "      <td>19</td>\n",
       "      <td>0.054452</td>\n",
       "      <td>0.055597</td>\n",
       "    </tr>\n",
       "    <tr>\n",
       "      <th>9</th>\n",
       "      <td>ans</td>\n",
       "      <td>9</td>\n",
       "      <td>0.053425</td>\n",
       "      <td>0.101940</td>\n",
       "    </tr>\n",
       "    <tr>\n",
       "      <th>141</th>\n",
       "      <td>trop</td>\n",
       "      <td>141</td>\n",
       "      <td>0.051712</td>\n",
       "      <td>0.052463</td>\n",
       "    </tr>\n",
       "    <tr>\n",
       "      <th>30</th>\n",
       "      <td>comme</td>\n",
       "      <td>30</td>\n",
       "      <td>0.045205</td>\n",
       "      <td>0.047272</td>\n",
       "    </tr>\n",
       "    <tr>\n",
       "      <th>145</th>\n",
       "      <td>va</td>\n",
       "      <td>145</td>\n",
       "      <td>0.042808</td>\n",
       "      <td>0.046455</td>\n",
       "    </tr>\n",
       "    <tr>\n",
       "      <th>128</th>\n",
       "      <td>sport</td>\n",
       "      <td>128</td>\n",
       "      <td>0.040753</td>\n",
       "      <td>0.043887</td>\n",
       "    </tr>\n",
       "    <tr>\n",
       "      <th>132</th>\n",
       "      <td>surf</td>\n",
       "      <td>132</td>\n",
       "      <td>0.038699</td>\n",
       "      <td>0.039256</td>\n",
       "    </tr>\n",
       "    <tr>\n",
       "      <th>138</th>\n",
       "      <td>tokyo2020</td>\n",
       "      <td>138</td>\n",
       "      <td>0.036644</td>\n",
       "      <td>0.035986</td>\n",
       "    </tr>\n",
       "    <tr>\n",
       "      <th>72</th>\n",
       "      <td>juste</td>\n",
       "      <td>72</td>\n",
       "      <td>0.034247</td>\n",
       "      <td>0.037183</td>\n",
       "    </tr>\n",
       "    <tr>\n",
       "      <th>47</th>\n",
       "      <td>fais</td>\n",
       "      <td>47</td>\n",
       "      <td>0.032192</td>\n",
       "      <td>0.035950</td>\n",
       "    </tr>\n",
       "    <tr>\n",
       "      <th>80</th>\n",
       "      <td>mds</td>\n",
       "      <td>80</td>\n",
       "      <td>0.031507</td>\n",
       "      <td>0.035309</td>\n",
       "    </tr>\n",
       "    <tr>\n",
       "      <th>153</th>\n",
       "      <td>voir</td>\n",
       "      <td>153</td>\n",
       "      <td>0.031164</td>\n",
       "      <td>0.031563</td>\n",
       "    </tr>\n",
       "    <tr>\n",
       "      <th>22</th>\n",
       "      <td>bon</td>\n",
       "      <td>22</td>\n",
       "      <td>0.030822</td>\n",
       "      <td>0.030557</td>\n",
       "    </tr>\n",
       "    <tr>\n",
       "      <th>91</th>\n",
       "      <td>non</td>\n",
       "      <td>91</td>\n",
       "      <td>0.029452</td>\n",
       "      <td>0.033379</td>\n",
       "    </tr>\n",
       "    <tr>\n",
       "      <th>129</th>\n",
       "      <td>sports</td>\n",
       "      <td>129</td>\n",
       "      <td>0.027740</td>\n",
       "      <td>0.039984</td>\n",
       "    </tr>\n",
       "    <tr>\n",
       "      <th>68</th>\n",
       "      <td>jeux</td>\n",
       "      <td>68</td>\n",
       "      <td>0.027055</td>\n",
       "      <td>0.027693</td>\n",
       "    </tr>\n",
       "    <tr>\n",
       "      <th>48</th>\n",
       "      <td>faut</td>\n",
       "      <td>48</td>\n",
       "      <td>0.026712</td>\n",
       "      <td>0.025999</td>\n",
       "    </tr>\n",
       "    <tr>\n",
       "      <th>69</th>\n",
       "      <td>jeuxolympiques</td>\n",
       "      <td>69</td>\n",
       "      <td>0.026027</td>\n",
       "      <td>0.026035</td>\n",
       "    </tr>\n",
       "    <tr>\n",
       "      <th>44</th>\n",
       "      <td>escalade</td>\n",
       "      <td>44</td>\n",
       "      <td>0.025342</td>\n",
       "      <td>0.029495</td>\n",
       "    </tr>\n",
       "    <tr>\n",
       "      <th>20</th>\n",
       "      <td>bmx</td>\n",
       "      <td>20</td>\n",
       "      <td>0.025342</td>\n",
       "      <td>0.026070</td>\n",
       "    </tr>\n",
       "    <tr>\n",
       "      <th>146</th>\n",
       "      <td>vais</td>\n",
       "      <td>146</td>\n",
       "      <td>0.025000</td>\n",
       "      <td>0.029170</td>\n",
       "    </tr>\n",
       "    <tr>\n",
       "      <th>111</th>\n",
       "      <td>peut</td>\n",
       "      <td>111</td>\n",
       "      <td>0.024315</td>\n",
       "      <td>0.025779</td>\n",
       "    </tr>\n",
       "    <tr>\n",
       "      <th>11</th>\n",
       "      <td>après</td>\n",
       "      <td>11</td>\n",
       "      <td>0.023973</td>\n",
       "      <td>0.024768</td>\n",
       "    </tr>\n",
       "    <tr>\n",
       "      <th>100</th>\n",
       "      <td>oui</td>\n",
       "      <td>100</td>\n",
       "      <td>0.023288</td>\n",
       "      <td>0.027540</td>\n",
       "    </tr>\n",
       "    <tr>\n",
       "      <th>144</th>\n",
       "      <td>très</td>\n",
       "      <td>144</td>\n",
       "      <td>0.022603</td>\n",
       "      <td>0.030311</td>\n",
       "    </tr>\n",
       "    <tr>\n",
       "      <th>73</th>\n",
       "      <td>karaté</td>\n",
       "      <td>73</td>\n",
       "      <td>0.022260</td>\n",
       "      <td>0.023820</td>\n",
       "    </tr>\n",
       "  </tbody>\n",
       "</table>\n",
       "</div>"
      ],
      "text/plain": [
       "               word   id  tf_idf_moy  tf_idf_var\n",
       "46            faire   46    0.125000    0.134033\n",
       "70               jo   70    0.101712    0.098216\n",
       "106            park  106    0.086301    0.081593\n",
       "115            plus  115    0.079110    0.092714\n",
       "19             bien   19    0.054452    0.055597\n",
       "9               ans    9    0.053425    0.101940\n",
       "141            trop  141    0.051712    0.052463\n",
       "30            comme   30    0.045205    0.047272\n",
       "145              va  145    0.042808    0.046455\n",
       "128           sport  128    0.040753    0.043887\n",
       "132            surf  132    0.038699    0.039256\n",
       "138       tokyo2020  138    0.036644    0.035986\n",
       "72            juste   72    0.034247    0.037183\n",
       "47             fais   47    0.032192    0.035950\n",
       "80              mds   80    0.031507    0.035309\n",
       "153            voir  153    0.031164    0.031563\n",
       "22              bon   22    0.030822    0.030557\n",
       "91              non   91    0.029452    0.033379\n",
       "129          sports  129    0.027740    0.039984\n",
       "68             jeux   68    0.027055    0.027693\n",
       "48             faut   48    0.026712    0.025999\n",
       "69   jeuxolympiques   69    0.026027    0.026035\n",
       "44         escalade   44    0.025342    0.029495\n",
       "20              bmx   20    0.025342    0.026070\n",
       "146            vais  146    0.025000    0.029170\n",
       "111            peut  111    0.024315    0.025779\n",
       "11            après   11    0.023973    0.024768\n",
       "100             oui  100    0.023288    0.027540\n",
       "144            très  144    0.022603    0.030311\n",
       "73           karaté   73    0.022260    0.023820"
      ]
     },
     "execution_count": 27,
     "metadata": {},
     "output_type": "execute_result"
    }
   ],
   "source": [
    "words_df.sort_values(['tf_idf_moy'], ascending=False).head(30)"
   ]
  },
  {
   "cell_type": "markdown",
   "id": "c3cc0066",
   "metadata": {},
   "source": [
    "### Corrélation entre différents mots\n",
    "Je compare les moyennes ou les variances de chaque features pour en sélectionner certaines (comme précédemment).\n",
    "\n",
    "Je choisis aussi de toutes les garder et de selectionner seulement celles qui ont une somme de corrélation avec le reste des features assez grande(plus par curiosité que par réelle méthode).\n",
    "\n",
    "Je visualise ensuite les corrélations pour voir les sujets,adjectifs,verbes,etc...proches 1 à 1. "
   ]
  },
  {
   "cell_type": "code",
   "execution_count": 28,
   "id": "ae54ee4f",
   "metadata": {},
   "outputs": [
    {
     "name": "stdout",
     "output_type": "stream",
     "text": [
      "               word   id  tf_idf_moy  tf_idf_var\n",
      "46            faire   46    0.125000    0.134033\n",
      "70               jo   70    0.101712    0.098216\n",
      "106            park  106    0.086301    0.081593\n",
      "115            plus  115    0.079110    0.092714\n",
      "19             bien   19    0.054452    0.055597\n",
      "9               ans    9    0.053425    0.101940\n",
      "141            trop  141    0.051712    0.052463\n",
      "30            comme   30    0.045205    0.047272\n",
      "145              va  145    0.042808    0.046455\n",
      "128           sport  128    0.040753    0.043887\n",
      "132            surf  132    0.038699    0.039256\n",
      "138       tokyo2020  138    0.036644    0.035986\n",
      "72            juste   72    0.034247    0.037183\n",
      "47             fais   47    0.032192    0.035950\n",
      "80              mds   80    0.031507    0.035309\n",
      "153            voir  153    0.031164    0.031563\n",
      "22              bon   22    0.030822    0.030557\n",
      "91              non   91    0.029452    0.033379\n",
      "129          sports  129    0.027740    0.039984\n",
      "68             jeux   68    0.027055    0.027693\n",
      "48             faut   48    0.026712    0.025999\n",
      "69   jeuxolympiques   69    0.026027    0.026035\n",
      "44         escalade   44    0.025342    0.029495\n",
      "20              bmx   20    0.025342    0.026070\n",
      "146            vais  146    0.025000    0.029170\n",
      "111            peut  111    0.024315    0.025779\n",
      "11            après   11    0.023973    0.024768\n",
      "100             oui  100    0.023288    0.027540\n",
      "144            très  144    0.022603    0.030311\n",
      "73           karaté   73    0.022260    0.023820\n",
      "27            cette   27    0.021918    0.022807\n",
      "54             font   54    0.021918    0.021437\n",
      "32           contre   32    0.021233    0.021467\n",
      "119        regarder  119    0.020890    0.022509\n",
      "74        le_skate_   74    0.020890    0.020454\n",
      "156              vu  156    0.020205    0.021852\n",
      "123            sans  123    0.019863    0.020838\n",
      "81              mec   81    0.019521    0.021194\n",
      "41           encore   41    0.019521    0.019139\n",
      "64        homervrai   64    0.019521    0.019139\n",
      "103            parc  103    0.019178    0.018810\n",
      "43            envie   43    0.019178    0.018810\n",
      "15            avoir   15    0.018836    0.019851\n",
      "122            sais  122    0.018836    0.019851\n",
      "12            autre   12    0.018493    0.020206\n",
      "(45, 45)\n",
      "(45, 45)\n",
      "(33, 33)\n"
     ]
    }
   ],
   "source": [
    "top_words = words_df.sort_values(['tf_idf_moy'], ascending=False).head(45)\n",
    "print(top_words)\n",
    "\n",
    "subX = pd.DataFrame(X[:,top_words.id.values].todense())\n",
    "subX.columns = top_words.word.values\n",
    "\n",
    "subX_allW = pd.DataFrame(X.todense())\n",
    "subX_allW.columns = words_df.word.values\n",
    "\n",
    "corr_df = subX.corr()\n",
    "\n",
    "top_corr_df = subX_allW.corr()\n",
    "print(corr_df.shape)\n",
    "top_corr_df[\"sum\"] = top_corr_df.std(axis = 1, skipna = True)\n",
    "top_corr_df = top_corr_df[top_corr_df[\"sum\"] >=top_corr_df[\"sum\"].quantile(0.8)]\n",
    "print(corr_df.shape)\n",
    "top_corr_df = top_corr_df.loc[:,top_corr_df.index.values]\n",
    "print(top_corr_df.shape)"
   ]
  },
  {
   "cell_type": "code",
   "execution_count": 29,
   "id": "81486a4e",
   "metadata": {},
   "outputs": [],
   "source": [
    "def plot_corr(corr_df):\n",
    "    f = plt.figure(figsize=(32, 20))\n",
    "    plt.matshow(corr_df, fignum=f.number)\n",
    "    plt.xticks(range(corr_df.select_dtypes(['number']).shape[1]), corr_df.select_dtypes(['number']).columns, fontsize=10, rotation=45)\n",
    "    plt.yticks(range(corr_df.select_dtypes(['number']).shape[1]), corr_df.select_dtypes(['number']).columns, fontsize=10)\n",
    "    cb = plt.colorbar()\n",
    "    cb.ax.tick_params(labelsize=14)\n",
    "    plt.title('Correlation Matrix', fontsize=16)\n",
    "    plt.show()"
   ]
  },
  {
   "cell_type": "code",
   "execution_count": 30,
   "id": "52741b3c",
   "metadata": {},
   "outputs": [
    {
     "data": {
      "image/png": "[encoded data removed]",
      "text/plain": [
       "<Figure size 2304x1440 with 2 Axes>"
      ]
     },
     "metadata": {
      "needs_background": "light"
     },
     "output_type": "display_data"
    },
    {
     "data": {
      "image/png": "[encoded data removed]",
      "text/plain": [
       "<Figure size 2304x1440 with 2 Axes>"
      ]
     },
     "metadata": {
      "needs_background": "light"
     },
     "output_type": "display_data"
    }
   ],
   "source": [
    "plot_corr(top_corr_df)\n",
    "plot_corr(corr_df)"
   ]
  },
  {
   "cell_type": "code",
   "execution_count": 31,
   "id": "ba836a26",
   "metadata": {},
   "outputs": [
    {
     "name": "stdout",
     "output_type": "stream",
     "text": [
      "CountVectorizer(max_features=200000, min_df=0.008,\n",
      "                stop_words=['au', 'aux', 'avec', 'ce', 'ces', 'dans', 'de',\n",
      "                            'des', 'du', 'elle', 'en', 'et', 'eux', 'il', 'ils',\n",
      "                            'je', 'la', 'le', 'les', 'leur', 'lui', 'ma',\n",
      "                            'mais', 'me', 'même', 'mes', 'moi', 'mon', 'ne',\n",
      "                            'nos', ...])\n"
     ]
    }
   ],
   "source": [
    "print(vectorizer.fit(df_fr.full_text))"
   ]
  },
  {
   "cell_type": "markdown",
   "id": "e9a04dc4",
   "metadata": {},
   "source": [
    "### Nuage de mots"
   ]
  },
  {
   "cell_type": "code",
   "execution_count": null,
   "id": "bf445b1c",
   "metadata": {},
   "outputs": [],
   "source": [
    "from wordcloud import WordCloud\n",
    "from textblob import TextBlob\n",
    "\n",
    "import numpy as np\n",
    "\n",
    "import json\n",
    "\n",
    "\n",
    "wc = WordCloud(background_color='white', stopwords= final_stopwords_list, max_words = 400, width = 1200, height=600, margin=2)\n",
    "\n",
    "txt = \"\"\n",
    "for t in df.full_text:\n",
    "    txt += t\n",
    "sentences = TextBlob(txt)\n",
    "words = sentences.words.lower().lemmatize()\n",
    "text = ' '.join(words)\n",
    "\n",
    "plt.figure(figsize=(16, 9))\n",
    "wc.generate(text)\n",
    "plt.imshow(wc)\n",
    "plt.axis(\"off\")\n",
    "plt.show()"
   ]
  }
 ],
 "metadata": {
  "kernelspec": {
   "display_name": "Python 3",
   "language": "python",
   "name": "python3"
  },
  "language_info": {
   "codemirror_mode": {
    "name": "ipython",
    "version": 3
   },
   "file_extension": ".py",
   "mimetype": "text/x-python",
   "name": "python",
   "nbconvert_exporter": "python",
   "pygments_lexer": "ipython3",
   "version": "3.7.10"
  }
 },
 "nbformat": 4,
 "nbformat_minor": 5
}
